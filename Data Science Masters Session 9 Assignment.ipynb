{
 "cells": [
  {
   "cell_type": "code",
   "execution_count": 13,
   "metadata": {},
   "outputs": [
    {
     "name": "stdout",
     "output_type": "stream",
     "text": [
      "         Unnamed: 0       Id       Name  Year Gender State  Count\n",
      "0             11349    11350       Emma  2004      F    AK     62\n",
      "1             11350    11351    Madison  2004      F    AK     48\n",
      "2             11351    11352     Hannah  2004      F    AK     46\n",
      "3             11352    11353      Grace  2004      F    AK     44\n",
      "4             11353    11354      Emily  2004      F    AK     41\n",
      "5             11354    11355    Abigail  2004      F    AK     37\n",
      "6             11355    11356     Olivia  2004      F    AK     33\n",
      "7             11356    11357   Isabella  2004      F    AK     30\n",
      "8             11357    11358     Alyssa  2004      F    AK     29\n",
      "9             11358    11359     Sophia  2004      F    AK     28\n",
      "10            11359    11360     Alexis  2004      F    AK     27\n",
      "11            11360    11361  Elizabeth  2004      F    AK     27\n",
      "12            11361    11362     Hailey  2004      F    AK     27\n",
      "13            11362    11363       Anna  2004      F    AK     26\n",
      "14            11363    11364    Natalie  2004      F    AK     25\n",
      "15            11364    11365      Sarah  2004      F    AK     25\n",
      "16            11365    11366     Sydney  2004      F    AK     25\n",
      "17            11366    11367        Ava  2004      F    AK     23\n",
      "18            11367    11368    Trinity  2004      F    AK     22\n",
      "19            11368    11369      Haley  2004      F    AK     21\n",
      "20            11369    11370     Kaylee  2004      F    AK     21\n",
      "21            11370    11371     Taylor  2004      F    AK     21\n",
      "22            11371    11372      Chloe  2004      F    AK     20\n",
      "23            11372    11373       Ella  2004      F    AK     20\n",
      "24            11373    11374  Mackenzie  2004      F    AK     20\n",
      "25            11374    11375     Sierra  2004      F    AK     19\n",
      "26            11375    11376      Kayla  2004      F    AK     18\n",
      "27            11376    11377   Samantha  2004      F    AK     18\n",
      "28            11377    11378        Zoe  2004      F    AK     18\n",
      "29            11378    11379    Jessica  2004      F    AK     17\n",
      "...             ...      ...        ...   ...    ...   ...    ...\n",
      "1016365     5647396  5647397     Brooks  2014      M    WY      5\n",
      "1016366     5647397  5647398     Calvin  2014      M    WY      5\n",
      "1016367     5647398  5647399    Cameron  2014      M    WY      5\n",
      "1016368     5647399  5647400     Dalton  2014      M    WY      5\n",
      "1016369     5647400  5647401     Dawson  2014      M    WY      5\n",
      "1016370     5647401  5647402     Edward  2014      M    WY      5\n",
      "1016371     5647402  5647403      Elias  2014      M    WY      5\n",
      "1016372     5647403  5647404       Gage  2014      M    WY      5\n",
      "1016373     5647404  5647405     Hayden  2014      M    WY      5\n",
      "1016374     5647405  5647406     Jasper  2014      M    WY      5\n",
      "1016375     5647406  5647407       Jose  2014      M    WY      5\n",
      "1016376     5647407  5647408     Kaiden  2014      M    WY      5\n",
      "1016377     5647408  5647409      Kaleb  2014      M    WY      5\n",
      "1016378     5647409  5647410      Kasen  2014      M    WY      5\n",
      "1016379     5647410  5647411      Kyson  2014      M    WY      5\n",
      "1016380     5647411  5647412      Lukas  2014      M    WY      5\n",
      "1016381     5647412  5647413      Myles  2014      M    WY      5\n",
      "1016382     5647413  5647414  Nathaniel  2014      M    WY      5\n",
      "1016383     5647414  5647415      Nolan  2014      M    WY      5\n",
      "1016384     5647415  5647416     Oakley  2014      M    WY      5\n",
      "1016385     5647416  5647417       Odin  2014      M    WY      5\n",
      "1016386     5647417  5647418     Paxton  2014      M    WY      5\n",
      "1016387     5647418  5647419    Raymond  2014      M    WY      5\n",
      "1016388     5647419  5647420    Richard  2014      M    WY      5\n",
      "1016389     5647420  5647421      Rowan  2014      M    WY      5\n",
      "1016390     5647421  5647422       Seth  2014      M    WY      5\n",
      "1016391     5647422  5647423    Spencer  2014      M    WY      5\n",
      "1016392     5647423  5647424       Tyce  2014      M    WY      5\n",
      "1016393     5647424  5647425     Victor  2014      M    WY      5\n",
      "1016394     5647425  5647426     Waylon  2014      M    WY      5\n",
      "\n",
      "[1016395 rows x 7 columns]\n"
     ]
    }
   ],
   "source": [
    "## Data Science Masters Session 9 Assignment of Sravanthi \n",
    "\n",
    "import pandas as pd\n",
    "import numpy as np\n",
    "import os\n",
    "\n",
    "\n",
    "df = pd.read_csv('https://raw.githubusercontent.com/guipsamora/pandas_exercises/master/06_Stats/US_Baby_Names/US_Baby_Names_right.csv')\n",
    "\n",
    "print(df)"
   ]
  },
  {
   "cell_type": "code",
   "execution_count": null,
   "metadata": {},
   "outputs": [],
   "source": []
  }
 ],
 "metadata": {
  "kernelspec": {
   "display_name": "Python 3",
   "language": "python",
   "name": "python3"
  },
  "language_info": {
   "codemirror_mode": {
    "name": "ipython",
    "version": 3
   },
   "file_extension": ".py",
   "mimetype": "text/x-python",
   "name": "python",
   "nbconvert_exporter": "python",
   "pygments_lexer": "ipython3",
   "version": "3.6.5"
  }
 },
 "nbformat": 4,
 "nbformat_minor": 2
}
